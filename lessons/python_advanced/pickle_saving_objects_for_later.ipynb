{
 "cells": [
  {
   "cell_type": "code",
   "execution_count": 1,
   "metadata": {},
   "outputs": [
    {
     "name": "stdout",
     "output_type": "stream",
     "text": [
      "Python Version: 3.6.7 (default, Oct 22 2018, 11:32:17) \n",
      "[GCC 8.2.0] \n",
      "\n"
     ]
    }
   ],
   "source": [
    "import sys\n",
    "print(\"Python Version:\", sys.version, '\\n')"
   ]
  },
  {
   "cell_type": "markdown",
   "metadata": {},
   "source": [
    "# Pickle: Saving Objects for Later"
   ]
  },
  {
   "cell_type": "markdown",
   "metadata": {},
   "source": [
    "Often in data science, we'll create some model or some version of our data and want to use it later. We have many options - we can save the coefficients, or save the data to csv, or...\n",
    "\n",
    "Actually, we don't have that many options. \n",
    "\n",
    "One way to overcome that is to save the python object to a file as a serialized object. That means we convert the entire object to a bunch of bytes, save those bytes into a file, and then have the ability to unpack those bytes back into their original format later. \n",
    "\n",
    "This is done by a module called `pickle`. Let's see it in action."
   ]
  },
  {
   "cell_type": "code",
   "execution_count": 2,
   "metadata": {},
   "outputs": [],
   "source": [
    "import pickle\n",
    "import random\n",
    "\n",
    "lots_of_noise = {\n",
    "    'CA': [random.randint(0,65) for _ in range(100)],\n",
    "    'IL': [random.randint(0,65) for _ in range(50)],\n",
    "    'NY': [random.randint(0,65) for _ in range(90)],\n",
    "    'WA': [random.randint(0,65) for _ in range(33)]\n",
    "}"
   ]
  },
  {
   "cell_type": "code",
   "execution_count": 3,
   "metadata": {},
   "outputs": [
    {
     "name": "stdout",
     "output_type": "stream",
     "text": [
      "{'CA': [30, 42, 18, 58, 52, 10, 63, 2, 36, 0, 58, 48, 52, 8, 17, 62, 48, 18, 21, 3, 39, 32, 49, 37, 47, 51, 35, 18, 18, 60, 39, 35, 33, 64, 19, 59, 5, 23, 35, 64, 56, 17, 48, 58, 11, 29, 12, 51, 34, 14, 44, 31, 14, 8, 47, 62, 30, 1, 62, 49, 50, 11, 28, 58, 56, 58, 4, 61, 24, 24, 47, 23, 55, 57, 50, 49, 32, 24, 27, 23, 30, 17, 42, 5, 63, 19, 32, 46, 27, 8, 27, 31, 18, 9, 46, 26, 39, 39, 3, 17], 'IL': [2, 18, 38, 47, 10, 21, 59, 0, 20, 30, 43, 18, 11, 65, 64, 8, 22, 61, 15, 43, 50, 52, 1, 61, 35, 46, 1, 48, 39, 49, 25, 27, 31, 1, 49, 58, 59, 58, 39, 56, 3, 30, 32, 41, 31, 31, 45, 38, 5, 50], 'NY': [34, 40, 35, 30, 14, 57, 16, 64, 63, 47, 63, 48, 62, 9, 19, 48, 49, 36, 26, 43, 2, 64, 23, 59, 43, 2, 56, 54, 59, 33, 58, 63, 31, 59, 1, 9, 8, 39, 56, 36, 26, 37, 57, 32, 50, 53, 6, 49, 22, 33, 47, 48, 15, 41, 62, 29, 12, 2, 43, 12, 14, 12, 65, 1, 39, 23, 13, 53, 36, 40, 64, 30, 11, 0, 20, 24, 20, 55, 63, 12, 34, 23, 61, 43, 19, 18, 32, 51, 3, 8], 'WA': [0, 21, 15, 23, 43, 58, 34, 43, 63, 34, 46, 6, 25, 27, 2, 23, 57, 9, 55, 13, 29, 60, 18, 9, 6, 24, 3, 58, 1, 0, 29, 28, 31]}\n"
     ]
    }
   ],
   "source": [
    "print(lots_of_noise)"
   ]
  },
  {
   "cell_type": "code",
   "execution_count": 4,
   "metadata": {},
   "outputs": [
    {
     "name": "stdout",
     "output_type": "stream",
     "text": [
      "Variable        Type      Data/Info\n",
      "-----------------------------------\n",
      "lots_of_noise   dict      n=4\n",
      "pickle          module    <module 'pickle' from '/u<...>lib/python3.6/pickle.py'>\n",
      "random          module    <module 'random' from '/u<...>lib/python3.6/random.py'>\n",
      "sys             module    <module 'sys' (built-in)>\n"
     ]
    }
   ],
   "source": [
    "whos"
   ]
  },
  {
   "cell_type": "markdown",
   "metadata": {},
   "source": [
    "We can see in this `whos` command that the object `lots_of_noise` exists and is a `dict` with 4 keys. Nice. Now let's look at our file system and verify that there isn't a file called `noise.pickle`."
   ]
  },
  {
   "cell_type": "code",
   "execution_count": 5,
   "metadata": {},
   "outputs": [
    {
     "name": "stdout",
     "output_type": "stream",
     "text": [
      "advanced_python_datatypes.ipynb  my_dataframe.pickle\r\n",
      "deep_and_shallow_copy.ipynb\t noise.pickle\r\n",
      "deep_copy_demo\t\t\t pickle_saving_objects_for_later.ipynb\r\n",
      "instructor_guide_week1_day4.md\t readme.md\r\n"
     ]
    }
   ],
   "source": [
    "!ls"
   ]
  },
  {
   "cell_type": "markdown",
   "metadata": {},
   "source": [
    "Okay, now we're ready to create a file and write the bytes to it. To do this with `pickle`, we use python's read-write streamer `open` and create a writable-binary (`wb`) file. We'll then use `pickle.dump` to put an object into that file as a string of bytes."
   ]
  },
  {
   "cell_type": "code",
   "execution_count": 6,
   "metadata": {},
   "outputs": [],
   "source": [
    "with open('noise.pickle', 'wb') as to_write:\n",
    "    pickle.dump(lots_of_noise, to_write)"
   ]
  },
  {
   "cell_type": "code",
   "execution_count": 7,
   "metadata": {},
   "outputs": [
    {
     "name": "stdout",
     "output_type": "stream",
     "text": [
      "advanced_python_datatypes.ipynb  my_dataframe.pickle\r\n",
      "deep_and_shallow_copy.ipynb\t noise.pickle\r\n",
      "deep_copy_demo\t\t\t pickle_saving_objects_for_later.ipynb\r\n",
      "instructor_guide_week1_day4.md\t readme.md\r\n"
     ]
    }
   ],
   "source": [
    "!ls"
   ]
  },
  {
   "cell_type": "markdown",
   "metadata": {},
   "source": [
    "Now let's delete `lots_of_noise` and prove to ourselves it doesn't exist in Python's memory anymore."
   ]
  },
  {
   "cell_type": "code",
   "execution_count": 8,
   "metadata": {},
   "outputs": [],
   "source": [
    "del lots_of_noise"
   ]
  },
  {
   "cell_type": "code",
   "execution_count": 9,
   "metadata": {},
   "outputs": [
    {
     "name": "stdout",
     "output_type": "stream",
     "text": [
      "Variable   Type              Data/Info\n",
      "--------------------------------------\n",
      "pickle     module            <module 'pickle' from '/u<...>lib/python3.6/pickle.py'>\n",
      "random     module            <module 'random' from '/u<...>lib/python3.6/random.py'>\n",
      "sys        module            <module 'sys' (built-in)>\n",
      "to_write   BufferedWriter    <_io.BufferedWriter name='noise.pickle'>\n"
     ]
    }
   ],
   "source": [
    "whos"
   ]
  },
  {
   "cell_type": "code",
   "execution_count": 10,
   "metadata": {},
   "outputs": [
    {
     "ename": "NameError",
     "evalue": "name 'lots_of_noise' is not defined",
     "output_type": "error",
     "traceback": [
      "\u001b[0;31m---------------------------------------------------------------------------\u001b[0m",
      "\u001b[0;31mNameError\u001b[0m                                 Traceback (most recent call last)",
      "\u001b[0;32m<ipython-input-10-69f22b4d5ca8>\u001b[0m in \u001b[0;36m<module>\u001b[0;34m()\u001b[0m\n\u001b[0;32m----> 1\u001b[0;31m \u001b[0mprint\u001b[0m\u001b[0;34m(\u001b[0m\u001b[0mlots_of_noise\u001b[0m\u001b[0;34m)\u001b[0m\u001b[0;34m\u001b[0m\u001b[0;34m\u001b[0m\u001b[0m\n\u001b[0m",
      "\u001b[0;31mNameError\u001b[0m: name 'lots_of_noise' is not defined"
     ]
    }
   ],
   "source": [
    "print(lots_of_noise)"
   ]
  },
  {
   "cell_type": "markdown",
   "metadata": {},
   "source": [
    "Lovely. It's dead forever. Or is it?\n",
    "\n",
    "Let's open that `noise.pickle` file with read-binary (`rb`) mode. Then we'll ask pickle to retrieve the file with `pickle.load` and store it back in a variable."
   ]
  },
  {
   "cell_type": "code",
   "execution_count": 11,
   "metadata": {},
   "outputs": [],
   "source": [
    "with open('noise.pickle','rb') as read_file:\n",
    "    new_noise = pickle.load(read_file)"
   ]
  },
  {
   "cell_type": "code",
   "execution_count": 12,
   "metadata": {},
   "outputs": [
    {
     "name": "stdout",
     "output_type": "stream",
     "text": [
      "{'CA': [30, 42, 18, 58, 52, 10, 63, 2, 36, 0, 58, 48, 52, 8, 17, 62, 48, 18, 21, 3, 39, 32, 49, 37, 47, 51, 35, 18, 18, 60, 39, 35, 33, 64, 19, 59, 5, 23, 35, 64, 56, 17, 48, 58, 11, 29, 12, 51, 34, 14, 44, 31, 14, 8, 47, 62, 30, 1, 62, 49, 50, 11, 28, 58, 56, 58, 4, 61, 24, 24, 47, 23, 55, 57, 50, 49, 32, 24, 27, 23, 30, 17, 42, 5, 63, 19, 32, 46, 27, 8, 27, 31, 18, 9, 46, 26, 39, 39, 3, 17], 'IL': [2, 18, 38, 47, 10, 21, 59, 0, 20, 30, 43, 18, 11, 65, 64, 8, 22, 61, 15, 43, 50, 52, 1, 61, 35, 46, 1, 48, 39, 49, 25, 27, 31, 1, 49, 58, 59, 58, 39, 56, 3, 30, 32, 41, 31, 31, 45, 38, 5, 50], 'NY': [34, 40, 35, 30, 14, 57, 16, 64, 63, 47, 63, 48, 62, 9, 19, 48, 49, 36, 26, 43, 2, 64, 23, 59, 43, 2, 56, 54, 59, 33, 58, 63, 31, 59, 1, 9, 8, 39, 56, 36, 26, 37, 57, 32, 50, 53, 6, 49, 22, 33, 47, 48, 15, 41, 62, 29, 12, 2, 43, 12, 14, 12, 65, 1, 39, 23, 13, 53, 36, 40, 64, 30, 11, 0, 20, 24, 20, 55, 63, 12, 34, 23, 61, 43, 19, 18, 32, 51, 3, 8], 'WA': [0, 21, 15, 23, 43, 58, 34, 43, 63, 34, 46, 6, 25, 27, 2, 23, 57, 9, 55, 13, 29, 60, 18, 9, 6, 24, 3, 58, 1, 0, 29, 28, 31]}\n"
     ]
    }
   ],
   "source": [
    "print(new_noise)"
   ]
  },
  {
   "cell_type": "code",
   "execution_count": 13,
   "metadata": {},
   "outputs": [
    {
     "name": "stdout",
     "output_type": "stream",
     "text": [
      "Variable    Type              Data/Info\n",
      "---------------------------------------\n",
      "new_noise   dict              n=4\n",
      "pickle      module            <module 'pickle' from '/u<...>lib/python3.6/pickle.py'>\n",
      "random      module            <module 'random' from '/u<...>lib/python3.6/random.py'>\n",
      "read_file   BufferedReader    <_io.BufferedReader name='noise.pickle'>\n",
      "sys         module            <module 'sys' (built-in)>\n",
      "to_write    BufferedWriter    <_io.BufferedWriter name='noise.pickle'>\n"
     ]
    }
   ],
   "source": [
    "whos"
   ]
  },
  {
   "cell_type": "markdown",
   "metadata": {},
   "source": [
    "Random noise lives! We retrieved the entire structure from file. Nice."
   ]
  },
  {
   "cell_type": "markdown",
   "metadata": {},
   "source": [
    "### Okay, but I don't use dictionaries... I use pandas."
   ]
  },
  {
   "cell_type": "code",
   "execution_count": 14,
   "metadata": {},
   "outputs": [
    {
     "data": {
      "text/html": [
       "<div>\n",
       "<style scoped>\n",
       "    .dataframe tbody tr th:only-of-type {\n",
       "        vertical-align: middle;\n",
       "    }\n",
       "\n",
       "    .dataframe tbody tr th {\n",
       "        vertical-align: top;\n",
       "    }\n",
       "\n",
       "    .dataframe thead th {\n",
       "        text-align: right;\n",
       "    }\n",
       "</style>\n",
       "<table border=\"1\" class=\"dataframe\">\n",
       "  <thead>\n",
       "    <tr style=\"text-align: right;\">\n",
       "      <th></th>\n",
       "      <th>Yay</th>\n",
       "      <th>specific</th>\n",
       "      <th>column</th>\n",
       "      <th>names</th>\n",
       "    </tr>\n",
       "  </thead>\n",
       "  <tbody>\n",
       "    <tr>\n",
       "      <th>0</th>\n",
       "      <td>6.884369</td>\n",
       "      <td>-1.930776</td>\n",
       "      <td>-3.271615</td>\n",
       "      <td>-9.219727</td>\n",
       "    </tr>\n",
       "    <tr>\n",
       "      <th>1</th>\n",
       "      <td>6.757359</td>\n",
       "      <td>2.715379</td>\n",
       "      <td>0.553510</td>\n",
       "      <td>8.377748</td>\n",
       "    </tr>\n",
       "    <tr>\n",
       "      <th>2</th>\n",
       "      <td>8.045242</td>\n",
       "      <td>-4.095189</td>\n",
       "      <td>-1.310208</td>\n",
       "      <td>-6.288213</td>\n",
       "    </tr>\n",
       "    <tr>\n",
       "      <th>3</th>\n",
       "      <td>7.308465</td>\n",
       "      <td>9.099853</td>\n",
       "      <td>-8.029871</td>\n",
       "      <td>8.845933</td>\n",
       "    </tr>\n",
       "    <tr>\n",
       "      <th>4</th>\n",
       "      <td>1.272257</td>\n",
       "      <td>0.660238</td>\n",
       "      <td>6.545559</td>\n",
       "      <td>-7.272655</td>\n",
       "    </tr>\n",
       "  </tbody>\n",
       "</table>\n",
       "</div>"
      ],
      "text/plain": [
       "        Yay  specific    column     names\n",
       "0  6.884369 -1.930776 -3.271615 -9.219727\n",
       "1  6.757359  2.715379  0.553510  8.377748\n",
       "2  8.045242 -4.095189 -1.310208 -6.288213\n",
       "3  7.308465  9.099853 -8.029871  8.845933\n",
       "4  1.272257  0.660238  6.545559 -7.272655"
      ]
     },
     "execution_count": 14,
     "metadata": {},
     "output_type": "execute_result"
    }
   ],
   "source": [
    "import pandas as pd\n",
    "import numpy as np\n",
    "\n",
    "df = pd.DataFrame(np.random.uniform(-10,10, size=(100,4)), columns=['Yay','specific','column','names'])\n",
    "df.head(5)"
   ]
  },
  {
   "cell_type": "code",
   "execution_count": 15,
   "metadata": {},
   "outputs": [],
   "source": [
    "with open('my_dataframe.pickle', 'wb') as to_write:\n",
    "    pickle.dump(df, to_write)"
   ]
  },
  {
   "cell_type": "code",
   "execution_count": 16,
   "metadata": {},
   "outputs": [
    {
     "ename": "NameError",
     "evalue": "name 'df' is not defined",
     "output_type": "error",
     "traceback": [
      "\u001b[0;31m---------------------------------------------------------------------------\u001b[0m",
      "\u001b[0;31mNameError\u001b[0m                                 Traceback (most recent call last)",
      "\u001b[0;32m<ipython-input-16-3975f6306adf>\u001b[0m in \u001b[0;36m<module>\u001b[0;34m()\u001b[0m\n\u001b[1;32m      1\u001b[0m \u001b[0;32mdel\u001b[0m \u001b[0mdf\u001b[0m\u001b[0;34m\u001b[0m\u001b[0;34m\u001b[0m\u001b[0m\n\u001b[1;32m      2\u001b[0m \u001b[0;34m\u001b[0m\u001b[0m\n\u001b[0;32m----> 3\u001b[0;31m \u001b[0mdf\u001b[0m\u001b[0;34m.\u001b[0m\u001b[0mhead\u001b[0m\u001b[0;34m(\u001b[0m\u001b[0;36m5\u001b[0m\u001b[0;34m)\u001b[0m\u001b[0;34m\u001b[0m\u001b[0;34m\u001b[0m\u001b[0m\n\u001b[0m",
      "\u001b[0;31mNameError\u001b[0m: name 'df' is not defined"
     ]
    }
   ],
   "source": [
    "del df\n",
    "\n",
    "df.head(5)"
   ]
  },
  {
   "cell_type": "code",
   "execution_count": 17,
   "metadata": {},
   "outputs": [
    {
     "data": {
      "text/html": [
       "<div>\n",
       "<style scoped>\n",
       "    .dataframe tbody tr th:only-of-type {\n",
       "        vertical-align: middle;\n",
       "    }\n",
       "\n",
       "    .dataframe tbody tr th {\n",
       "        vertical-align: top;\n",
       "    }\n",
       "\n",
       "    .dataframe thead th {\n",
       "        text-align: right;\n",
       "    }\n",
       "</style>\n",
       "<table border=\"1\" class=\"dataframe\">\n",
       "  <thead>\n",
       "    <tr style=\"text-align: right;\">\n",
       "      <th></th>\n",
       "      <th>Yay</th>\n",
       "      <th>specific</th>\n",
       "      <th>column</th>\n",
       "      <th>names</th>\n",
       "    </tr>\n",
       "  </thead>\n",
       "  <tbody>\n",
       "    <tr>\n",
       "      <th>0</th>\n",
       "      <td>6.884369</td>\n",
       "      <td>-1.930776</td>\n",
       "      <td>-3.271615</td>\n",
       "      <td>-9.219727</td>\n",
       "    </tr>\n",
       "    <tr>\n",
       "      <th>1</th>\n",
       "      <td>6.757359</td>\n",
       "      <td>2.715379</td>\n",
       "      <td>0.553510</td>\n",
       "      <td>8.377748</td>\n",
       "    </tr>\n",
       "    <tr>\n",
       "      <th>2</th>\n",
       "      <td>8.045242</td>\n",
       "      <td>-4.095189</td>\n",
       "      <td>-1.310208</td>\n",
       "      <td>-6.288213</td>\n",
       "    </tr>\n",
       "    <tr>\n",
       "      <th>3</th>\n",
       "      <td>7.308465</td>\n",
       "      <td>9.099853</td>\n",
       "      <td>-8.029871</td>\n",
       "      <td>8.845933</td>\n",
       "    </tr>\n",
       "    <tr>\n",
       "      <th>4</th>\n",
       "      <td>1.272257</td>\n",
       "      <td>0.660238</td>\n",
       "      <td>6.545559</td>\n",
       "      <td>-7.272655</td>\n",
       "    </tr>\n",
       "  </tbody>\n",
       "</table>\n",
       "</div>"
      ],
      "text/plain": [
       "        Yay  specific    column     names\n",
       "0  6.884369 -1.930776 -3.271615 -9.219727\n",
       "1  6.757359  2.715379  0.553510  8.377748\n",
       "2  8.045242 -4.095189 -1.310208 -6.288213\n",
       "3  7.308465  9.099853 -8.029871  8.845933\n",
       "4  1.272257  0.660238  6.545559 -7.272655"
      ]
     },
     "execution_count": 17,
     "metadata": {},
     "output_type": "execute_result"
    }
   ],
   "source": [
    "with open('my_dataframe.pickle','rb') as read_file:\n",
    "    new_df = pickle.load(read_file)\n",
    "    \n",
    "new_df.head(5)"
   ]
  },
  {
   "cell_type": "markdown",
   "metadata": {},
   "source": [
    "Pickle is a great tool. One recommended way of using it is to make it an end point of every step in your process. Example:\n",
    "\n",
    "* I got my data! Nice. Pickle it and stop your \"getting the data\" notebook.\n",
    "* Load your data from pickle. Clean it. Save your clean data to a new pickle.\n",
    "* Load your cleaned_data pickle. Do analysis and visualize it.\n",
    "\n",
    "This can provide natural \"pick-up-where-I-left-off-but-before-I-broke-my-data\" points. It's a great way to control the flow of your data.\n",
    "\n",
    "#### Resources\n",
    "\n",
    "https://docs.python.org/3.7/library/pickle.html"
   ]
  }
 ],
 "metadata": {
  "kernelspec": {
   "display_name": "Python 3",
   "language": "python",
   "name": "python3"
  },
  "language_info": {
   "codemirror_mode": {
    "name": "ipython",
    "version": 3
   },
   "file_extension": ".py",
   "mimetype": "text/x-python",
   "name": "python",
   "nbconvert_exporter": "python",
   "pygments_lexer": "ipython3",
   "version": "3.6.7"
  }
 },
 "nbformat": 4,
 "nbformat_minor": 1
}
